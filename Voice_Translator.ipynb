{
  "nbformat": 4,
  "nbformat_minor": 0,
  "metadata": {
    "colab": {
      "provenance": []
    },
    "kernelspec": {
      "name": "python3",
      "display_name": "Python 3"
    },
    "language_info": {
      "name": "python"
    }
  },
  "cells": [
    {
      "cell_type": "markdown",
      "source": [
        "THIS IS A ENG-SPN VOICE TRANSLATOR. PLEASE RUN ALL THE CELLS AND FOLLOW THE VOICE-OVER INSTRUCTIONS IN THE LAST CELL FOR SMOOTH ESCALATTION."
      ],
      "metadata": {
        "id": "_bRqy6y1hce0"
      }
    },
    {
      "cell_type": "code",
      "source": [
        "!pip install SpeechRecognition deep-translator gTTS pydub"
      ],
      "metadata": {
        "colab": {
          "base_uri": "https://localhost:8080/"
        },
        "id": "v6Jhli8PQQIZ",
        "outputId": "5a64643c-b688-4e05-9b44-69b0510264a6"
      },
      "execution_count": 3,
      "outputs": [
        {
          "output_type": "stream",
          "name": "stdout",
          "text": [
            "Collecting SpeechRecognition\n",
            "  Downloading speechrecognition-3.14.3-py3-none-any.whl.metadata (30 kB)\n",
            "Collecting deep-translator\n",
            "  Downloading deep_translator-1.11.4-py3-none-any.whl.metadata (30 kB)\n",
            "Collecting gTTS\n",
            "  Downloading gTTS-2.5.4-py3-none-any.whl.metadata (4.1 kB)\n",
            "Requirement already satisfied: pydub in /usr/local/lib/python3.11/dist-packages (0.25.1)\n",
            "Requirement already satisfied: typing-extensions in /usr/local/lib/python3.11/dist-packages (from SpeechRecognition) (4.14.1)\n",
            "Requirement already satisfied: beautifulsoup4<5.0.0,>=4.9.1 in /usr/local/lib/python3.11/dist-packages (from deep-translator) (4.13.4)\n",
            "Requirement already satisfied: requests<3.0.0,>=2.23.0 in /usr/local/lib/python3.11/dist-packages (from deep-translator) (2.32.3)\n",
            "Collecting click<8.2,>=7.1 (from gTTS)\n",
            "  Downloading click-8.1.8-py3-none-any.whl.metadata (2.3 kB)\n",
            "Requirement already satisfied: soupsieve>1.2 in /usr/local/lib/python3.11/dist-packages (from beautifulsoup4<5.0.0,>=4.9.1->deep-translator) (2.7)\n",
            "Requirement already satisfied: charset-normalizer<4,>=2 in /usr/local/lib/python3.11/dist-packages (from requests<3.0.0,>=2.23.0->deep-translator) (3.4.2)\n",
            "Requirement already satisfied: idna<4,>=2.5 in /usr/local/lib/python3.11/dist-packages (from requests<3.0.0,>=2.23.0->deep-translator) (3.10)\n",
            "Requirement already satisfied: urllib3<3,>=1.21.1 in /usr/local/lib/python3.11/dist-packages (from requests<3.0.0,>=2.23.0->deep-translator) (2.5.0)\n",
            "Requirement already satisfied: certifi>=2017.4.17 in /usr/local/lib/python3.11/dist-packages (from requests<3.0.0,>=2.23.0->deep-translator) (2025.8.3)\n",
            "Downloading speechrecognition-3.14.3-py3-none-any.whl (32.9 MB)\n",
            "\u001b[2K   \u001b[90m━━━━━━━━━━━━━━━━━━━━━━━━━━━━━━━━━━━━━━━━\u001b[0m \u001b[32m32.9/32.9 MB\u001b[0m \u001b[31m56.5 MB/s\u001b[0m eta \u001b[36m0:00:00\u001b[0m\n",
            "\u001b[?25hDownloading deep_translator-1.11.4-py3-none-any.whl (42 kB)\n",
            "\u001b[2K   \u001b[90m━━━━━━━━━━━━━━━━━━━━━━━━━━━━━━━━━━━━━━━━\u001b[0m \u001b[32m42.3/42.3 kB\u001b[0m \u001b[31m3.7 MB/s\u001b[0m eta \u001b[36m0:00:00\u001b[0m\n",
            "\u001b[?25hDownloading gTTS-2.5.4-py3-none-any.whl (29 kB)\n",
            "Downloading click-8.1.8-py3-none-any.whl (98 kB)\n",
            "\u001b[2K   \u001b[90m━━━━━━━━━━━━━━━━━━━━━━━━━━━━━━━━━━━━━━━━\u001b[0m \u001b[32m98.2/98.2 kB\u001b[0m \u001b[31m8.9 MB/s\u001b[0m eta \u001b[36m0:00:00\u001b[0m\n",
            "\u001b[?25hInstalling collected packages: SpeechRecognition, click, gTTS, deep-translator\n",
            "  Attempting uninstall: click\n",
            "    Found existing installation: click 8.2.1\n",
            "    Uninstalling click-8.2.1:\n",
            "      Successfully uninstalled click-8.2.1\n",
            "Successfully installed SpeechRecognition-3.14.3 click-8.1.8 deep-translator-1.11.4 gTTS-2.5.4\n"
          ]
        }
      ]
    },
    {
      "cell_type": "code",
      "source": [
        "!pip install gTTS"
      ],
      "metadata": {
        "colab": {
          "base_uri": "https://localhost:8080/"
        },
        "id": "ToiEN5itwXnA",
        "outputId": "fc0270d7-7386-4381-daba-3fed4b83c837"
      },
      "execution_count": 2,
      "outputs": [
        {
          "output_type": "stream",
          "name": "stdout",
          "text": [
            "Requirement already satisfied: gTTS in /usr/local/lib/python3.11/dist-packages (2.5.4)\n",
            "Requirement already satisfied: requests<3,>=2.27 in /usr/local/lib/python3.11/dist-packages (from gTTS) (2.32.3)\n",
            "Requirement already satisfied: click<8.2,>=7.1 in /usr/local/lib/python3.11/dist-packages (from gTTS) (8.1.8)\n",
            "Requirement already satisfied: charset-normalizer<4,>=2 in /usr/local/lib/python3.11/dist-packages (from requests<3,>=2.27->gTTS) (3.4.2)\n",
            "Requirement already satisfied: idna<4,>=2.5 in /usr/local/lib/python3.11/dist-packages (from requests<3,>=2.27->gTTS) (3.10)\n",
            "Requirement already satisfied: urllib3<3,>=1.21.1 in /usr/local/lib/python3.11/dist-packages (from requests<3,>=2.27->gTTS) (2.5.0)\n",
            "Requirement already satisfied: certifi>=2017.4.17 in /usr/local/lib/python3.11/dist-packages (from requests<3,>=2.27->gTTS) (2025.8.3)\n"
          ]
        }
      ]
    },
    {
      "cell_type": "markdown",
      "source": [
        "##  Microphone and Audio Playback Functions"
      ],
      "metadata": {
        "id": "djgj3KAqWu8i"
      }
    },
    {
      "cell_type": "code",
      "source": [
        "from IPython.display import Javascript, display, Audio # Imports a special set of Colab functions to display things like JavaScript and audio.\n",
        "from base64 import b64decode # Used to decode the base64-encoded audio data from the browser.\n",
        "from google.colab import output # Used to interact with the Colab notebook's output.\n",
        "from gtts import gTTS # Imports the gTTS library for converting text to speech.\n",
        "import io # Imports the io module for handling in-memory files.\n",
        "import speech_recognition as sr # Imports the SpeechRecognition library for converting speech to text.\n",
        "from deep_translator import GoogleTranslator # Imports the GoogleTranslator from deep_translator to handle text translation.\n",
        "from pydub import AudioSegment # Imports pydub to handle audio file manipulations.\n",
        "import time # Imports the time module for pauses and delays.\n",
        "import tempfile # Imports tempfile to create temporary files for audio storage.\n",
        "import sys # Imports sys module for system-specific parameters and functions.\n",
        "import threading # Imports threading to handle multiple threads if needed."
      ],
      "metadata": {
        "id": "otfPoG8jH3BT"
      },
      "execution_count": 4,
      "outputs": []
    },
    {
      "cell_type": "code",
      "source": [
        "# JavaScript to create record button in the notebook\n",
        "\n",
        "RECORD= \"\"\"\n",
        "const sleep= time => new Promise(resolve => setTimeout(resolve, time))   // Defines a JavaScript function to pause execution for a specific time.\n",
        "const b2text= blob => new Promise(resolve => {    // Defines a function to convert a binary audio blob into a base64-encoded string.\n",
        "  const reader = new FileReader()                 // Creates a new FileReader object.\n",
        "  reader.onloadend = () => resolve(reader.result) // Sets up an event listener for the onloadend event of the reader.\n",
        "  reader.readAsDataURL(blob)                      // Reads the audio blob as a data URL.\n",
        "})\n",
        "var record = time => new Promise(async resolve => {                  // Main recording function that takes a duration.\n",
        "  stream= await navigator.mediaDevices.getUserMedia({ audio: true }) // Requests access to the user's microphone.\n",
        "  recorder= new MediaRecorder(stream)                                // Creates a new media recorder.\n",
        "  chunks= []                                                         // Initializes an array to store audio data chunks.\n",
        "  recorder.ondataavailable = e => chunks.push(e.data)                // Adds incoming audio data to the chunks array.\n",
        "  recorder.start()                                                   // Starts the recording.\n",
        "  await sleep(time)                                                  // Pauses for the specified duration using the sleep function.\n",
        "  recorder.onstop = async ()=>{                                      // Defines what to do when the recording stops.\n",
        "    blob= new Blob(chunks)                                           // Combines the chunks into a single audio blob.\n",
        "    text= await b2text(blob)                                         // Converts the blob into a base64-encoded string.\n",
        "    resolve(text)                                                    // Resolves the promise with the audio data.\n",
        "  }\n",
        "  recorder.stop()                                                    // Stops the recording after the timer ends.\n",
        "})\n",
        "\"\"\""
      ],
      "metadata": {
        "id": "CC8nodYZwWVr"
      },
      "execution_count": 5,
      "outputs": []
    },
    {
      "cell_type": "code",
      "source": [
        "import os"
      ],
      "metadata": {
        "id": "jBTXfnJGgO0v"
      },
      "execution_count": 22,
      "outputs": []
    },
    {
      "cell_type": "code",
      "source": [
        "def record_audio(filename=\"audio.wav\", duration=5):\n",
        "  \"\"\"\n",
        "  Records audio from the browser's microphone for a specified duration and saves it as a WAV file.\n",
        "  Args:\n",
        "        filename (str): The name of the file to save the audio.\n",
        "        duration (int): The duration of the recording in seconds.\n",
        "    Returns:\n",
        "        str: The filename of the recorded audio.\n",
        "  \"\"\"\n",
        "  input(f\"Recording for {duration} seconds... Please speak now.\") # Prints a message to the user.\n",
        "  display(Javascript(RECORD)) # Executes the JavaScript code to show the record button.\n",
        "  s = output.eval_js('record(%d)' % (duration * 1000)) # Calls the JavaScript function and gets the audio data as a string.\n",
        "  b = b64decode(s.split(',')[1]) # Decodes the base64 string back into binary audio data.\n",
        "  with open(filename, 'wb') as f: # Opens a new file in write-binary mode.\n",
        "    f.write(b) # Writes the binary audio data to the file.\n",
        "  print(\"Recording finished.\") # Informs the user that the recording is complete.\n",
        "  return filename # Returns the name of the file where the audio is saved."
      ],
      "metadata": {
        "id": "qe2IZ-iKHtwb"
      },
      "execution_count": 10,
      "outputs": []
    },
    {
      "cell_type": "code",
      "source": [
        "def speak_colab(text, lang=\"en\"):\n",
        "  \"\"\"\n",
        "  Converts text to speech and plays the audio in the notebook output.\n",
        "  Args:\n",
        "        text (str): The text to be spoken.\n",
        "        lang (str): The language code for the text.\n",
        "  \"\"\"\n",
        "  try:\n",
        "    tts= gTTS(text=text, lang=lang) # Creates a gTTS object with the specified text and language.\n",
        "    with tempfile.NamedTemporaryFile(suffix=\".mp3\", delete=False) as fp: # Creates a temporary MP3 file to store the audio.\n",
        "        tts.save(fp.name) # Saves the gTTS audio to the temporary file.\n",
        "        audio_data= open(fp.name, \"rb\").read() # Reads the audio data from the file.\n",
        "        display(Audio(audio_data, autoplay=True)) # Displays the audio in the notebook.\n",
        "        os.remove(fp.name)                        # Deletes the temporary file after playing.\n",
        "\n",
        "  except Exception as e:\n",
        "    print(f\"Error during Text-to-Speech:{e}\")    # Prints an error message if something goes wrong."
      ],
      "metadata": {
        "id": "7FlfSOIhKZ5O"
      },
      "execution_count": 23,
      "outputs": []
    },
    {
      "cell_type": "markdown",
      "source": [
        "## THE MAIN TRANSLATION LOGIC\n",
        "\n",
        "This cell contains the functions to recognize and translate the audio."
      ],
      "metadata": {
        "id": "G3nJHo39AuAl"
      }
    },
    {
      "cell_type": "code",
      "source": [
        "def recognize_and_translate(audio_file_path, source_lang, dest_lang):\n",
        "  \"\"\"\n",
        "  Recognizes speech in an audio file, translates it and prints the result.\n",
        "  Args:\n",
        "        audio_file_path (str): The path to the audio file.\n",
        "        source_lang (str): The language of the audio to be recognized.\n",
        "        dest_lang (str): The language to translate to.\n",
        "  \"\"\"\n",
        "  r= sr.Recognizer()      # Initializes the speech recognition object.\n",
        "  try:\n",
        "      # Step 1: Explicitly load the audio file as a WebM file, as that is the format recorded by the browser.\n",
        "      audio_segment = AudioSegment.from_file(audio_file_path, format=\"webm\")\n",
        "\n",
        "      # Create a temporary WAV file with a specific codec to ensure compatibility.\n",
        "      with tempfile.NamedTemporaryFile(suffix=\".wav\", delete=False) as fp:\n",
        "            audio_segment.export(fp.name, format=\"wav\", codec=\"pcm_s16le\")\n",
        "            converted_audio_path = fp.name\n",
        "\n",
        "      # Step 2: Use the valid WAV file for speech recognition.\n",
        "      with sr.AudioFile(converted_audio_path) as source:  # Opens the audio file.\n",
        "          audio= r.record(source) # Records the entire audio from the file.\n",
        "\n",
        "      # Recognize speech using Google's service\n",
        "      recognized_text= r.recognize_google(audio, language= source_lang) # Converts the audio to text using Google's API.\n",
        "      print(f\"Recognized ({source_lang} Text): {recognized_text}\")      # Prints the recognized text.\n",
        "\n",
        "      # Translate the text using deep-translator\n",
        "      translator= GoogleTranslator(source= source_lang[:2], target= dest_lang[:2]) # Creates/Initializes the translator with source and target languages.\n",
        "      translation= translator.translate(recognized_text)\n",
        "\n",
        "      print(f\"Translated ({dest_lang}): {translation}\")  # Print the translated text.\n",
        "\n",
        "      # Speak the translated text\n",
        "      speak_colab(translation, dest_lang)     # Calls the function to play the translated text aloud.\n",
        "\n",
        "  except sr.UnknownValueError:\n",
        "      print(\"Google Speech Recognition could not understand audio\")\n",
        "  except sr.RequestError as e:\n",
        "      print(f\"Could not request results from Google Speech Recognition Service; {e}\")\n",
        "  except Exception as e:\n",
        "        print(f\"An unexpected error occurred during processing: {e}\")"
      ],
      "metadata": {
        "id": "ooLIpMyGBBmH"
      },
      "execution_count": 18,
      "outputs": []
    },
    {
      "cell_type": "markdown",
      "source": [
        "# The Main Loop\n",
        "\n",
        "Final Program Creation."
      ],
      "metadata": {
        "id": "wFjAlfe-SqZh"
      }
    },
    {
      "cell_type": "code",
      "source": [
        "def main():\n",
        "  print(\"Starting real-time translation program...\")  # Prints a starting process.\n",
        "  print(\"This will run a two-way conversation loop.\")  # Explains the flow of the program.\n",
        "\n",
        "  # Speaker 1 (English to Spanish)\n",
        "  print(\"\\n--- Speaker 1's turn [English to Spanish] --->\") # Indicates whose turn it is.\n",
        "  print(\"Press ENTER key in the input block when you're ready to speak.\")\n",
        "  audio_file_en= record_audio(filename=\"speaker1.wav\", duration=5) # Records 5 seconds of audio from the first speaker.\n",
        "  recognize_and_translate(audio_file_en, 'en-US', 'es') # Recognizes and translates the English audio to Spanish.\n",
        "\n",
        "  # Wait a moment for the audio to finish\n",
        "  time.sleep(2) # Pauses the program to allow the translated audio to finish playing.\n",
        "\n",
        "  # Speaker 2: Spanish to English\n",
        "  print(\"\\n--- Speaker 2's turn (Spanish -> English) ---\") # Indicates the second speaker's turn.\n",
        "  print(\"Press ENTER key in the input block when you're ready to speak.\")\n",
        "  audio_file_es = record_audio(filename=\"speaker2.wav\", duration=5) # Records 5 seconds of audio from the second speaker.\n",
        "  recognize_and_translate(audio_file_es, 'es-ES', 'en') # Recognizes and translates the Spanish audio to English.\n",
        "\n",
        "\n",
        "if __name__ == \"__main__\":\n",
        "    main() # Calls the main function to start the program."
      ],
      "metadata": {
        "colab": {
          "base_uri": "https://localhost:8080/",
          "height": 425
        },
        "id": "x3Wwq8FpS5eL",
        "outputId": "65b86a4f-bcdd-4d71-d19a-6f7bc59cbe08"
      },
      "execution_count": 26,
      "outputs": [
        {
          "name": "stdout",
          "output_type": "stream",
          "text": [
            "Starting real-time translation program...\n",
            "This will run a two-way conversation loop.\n",
            "\n",
            "--- Speaker 1's turn [English to Spanish] --->\n",
            "Press ENTER key in the input block when you're ready to speak.\n",
            "Recording for 5 seconds... Please speak now.\n"
          ]
        },
        {
          "output_type": "display_data",
          "data": {
            "text/plain": [
              "<IPython.core.display.Javascript object>"
            ],
            "application/javascript": [
              " \n",
              "const sleep= time => new Promise(resolve => setTimeout(resolve, time))   // Defines a JavaScript function to pause execution for a specific time.\n",
              "const b2text= blob => new Promise(resolve => {    // Defines a function to convert a binary audio blob into a base64-encoded string.\n",
              "  const reader = new FileReader()                 // Creates a new FileReader object.\n",
              "  reader.onloadend = () => resolve(reader.result) // Sets up an event listener for the onloadend event of the reader.\n",
              "  reader.readAsDataURL(blob)                      // Reads the audio blob as a data URL.\n",
              "})\n",
              "var record = time => new Promise(async resolve => {                  // Main recording function that takes a duration.\n",
              "  stream= await navigator.mediaDevices.getUserMedia({ audio: true }) // Requests access to the user's microphone.\n",
              "  recorder= new MediaRecorder(stream)                                // Creates a new media recorder.\n",
              "  chunks= []                                                         // Initializes an array to store audio data chunks. \n",
              "  recorder.ondataavailable = e => chunks.push(e.data)                // Adds incoming audio data to the chunks array.\n",
              "  recorder.start()                                                   // Starts the recording.\n",
              "  await sleep(time)                                                  // Pauses for the specified duration using the sleep function.\n",
              "  recorder.onstop = async ()=>{                                      // Defines what to do when the recording stops.\n",
              "    blob= new Blob(chunks)                                           // Combines the chunks into a single audio blob.\n",
              "    text= await b2text(blob)                                         // Converts the blob into a base64-encoded string. \n",
              "    resolve(text)                                                    // Resolves the promise with the audio data.\n",
              "  }\n",
              "  recorder.stop()                                                    // Stops the recording after the timer ends.\n",
              "})\n"
            ]
          },
          "metadata": {}
        },
        {
          "output_type": "stream",
          "name": "stdout",
          "text": [
            "Recording finished.\n",
            "Recognized (en-US Text): hello\n",
            "Translated (es): Hola\n"
          ]
        },
        {
          "output_type": "display_data",
          "data": {
            "text/plain": [
              "<IPython.lib.display.Audio object>"
            ],
            "text/html": [
              "\n",
              "                <audio  controls=\"controls\" autoplay=\"autoplay\">\n",
              "                    <source src=\"data:audio/wav;base64,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\" type=\"audio/wav\" />\n",
              "                    Your browser does not support the audio element.\n",
              "                </audio>\n",
              "              "
            ]
          },
          "metadata": {}
        },
        {
          "name": "stdout",
          "output_type": "stream",
          "text": [
            "\n",
            "--- Speaker 2's turn (Spanish -> English) ---\n",
            "Press ENTER key in the input block when you're ready to speak.\n",
            "Recording for 5 seconds... Please speak now.\n"
          ]
        },
        {
          "output_type": "display_data",
          "data": {
            "text/plain": [
              "<IPython.core.display.Javascript object>"
            ],
            "application/javascript": [
              " \n",
              "const sleep= time => new Promise(resolve => setTimeout(resolve, time))   // Defines a JavaScript function to pause execution for a specific time.\n",
              "const b2text= blob => new Promise(resolve => {    // Defines a function to convert a binary audio blob into a base64-encoded string.\n",
              "  const reader = new FileReader()                 // Creates a new FileReader object.\n",
              "  reader.onloadend = () => resolve(reader.result) // Sets up an event listener for the onloadend event of the reader.\n",
              "  reader.readAsDataURL(blob)                      // Reads the audio blob as a data URL.\n",
              "})\n",
              "var record = time => new Promise(async resolve => {                  // Main recording function that takes a duration.\n",
              "  stream= await navigator.mediaDevices.getUserMedia({ audio: true }) // Requests access to the user's microphone.\n",
              "  recorder= new MediaRecorder(stream)                                // Creates a new media recorder.\n",
              "  chunks= []                                                         // Initializes an array to store audio data chunks. \n",
              "  recorder.ondataavailable = e => chunks.push(e.data)                // Adds incoming audio data to the chunks array.\n",
              "  recorder.start()                                                   // Starts the recording.\n",
              "  await sleep(time)                                                  // Pauses for the specified duration using the sleep function.\n",
              "  recorder.onstop = async ()=>{                                      // Defines what to do when the recording stops.\n",
              "    blob= new Blob(chunks)                                           // Combines the chunks into a single audio blob.\n",
              "    text= await b2text(blob)                                         // Converts the blob into a base64-encoded string. \n",
              "    resolve(text)                                                    // Resolves the promise with the audio data.\n",
              "  }\n",
              "  recorder.stop()                                                    // Stops the recording after the timer ends.\n",
              "})\n"
            ]
          },
          "metadata": {}
        },
        {
          "output_type": "stream",
          "name": "stdout",
          "text": [
            "Recording finished.\n",
            "Recognized (es-ES Text): hola\n",
            "Translated (en): hello\n"
          ]
        },
        {
          "output_type": "display_data",
          "data": {
            "text/plain": [
              "<IPython.lib.display.Audio object>"
            ],
            "text/html": [
              "\n",
              "                <audio  controls=\"controls\" autoplay=\"autoplay\">\n",
              "                    <source src=\"data:audio/wav;base64,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\" type=\"audio/wav\" />\n",
              "                    Your browser does not support the audio element.\n",
              "                </audio>\n",
              "              "
            ]
          },
          "metadata": {}
        }
      ]
    }
  ]
}